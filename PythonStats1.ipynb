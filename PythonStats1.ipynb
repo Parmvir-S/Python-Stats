{
  "nbformat": 4,
  "nbformat_minor": 0,
  "metadata": {
    "colab": {
      "name": "COGS303ProblemSet1.ipynb",
      "provenance": [],
      "collapsed_sections": []
    },
    "kernelspec": {
      "name": "python3",
      "display_name": "Python 3"
    },
    "language_info": {
      "name": "python"
    }
  },
  "cells": [
    {
      "cell_type": "markdown",
      "source": [
        "Student Number: 13443783"
      ],
      "metadata": {
        "id": "USm2ySKi_5nB"
      }
    },
    {
      "cell_type": "markdown",
      "source": [
        "**Question 1: What’s the probability that she gets 13 out of 20 cups right, assuming she has no special ability?**"
      ],
      "metadata": {
        "id": "A6l_p0nV0XyN"
      }
    },
    {
      "cell_type": "code",
      "execution_count": null,
      "metadata": {
        "colab": {
          "base_uri": "https://localhost:8080/"
        },
        "id": "wKpiRe720Qtq",
        "outputId": "7f1b3b38-6bb5-4919-fec7-3cac61d2e4d4"
      },
      "outputs": [
        {
          "output_type": "execute_result",
          "data": {
            "text/plain": [
              "0.07374"
            ]
          },
          "metadata": {},
          "execution_count": 18
        }
      ],
      "source": [
        "import numpy as np\n",
        "\n",
        "all_trials = []\n",
        "\n",
        "for j in range(100000):\n",
        "  trial = []\n",
        "  for i in range(20):\n",
        "    cup = np.random.random() < 0.5\n",
        "    trial.append(cup)\n",
        "  correct = sum(trial)\n",
        "  all_trials.append(correct)\n",
        "\n",
        "accumulator = 0\n",
        "for i in all_trials:\n",
        "  if i == 13:\n",
        "    accumulator += 1\n",
        "\n",
        "accumulator / 100000\n",
        "  "
      ]
    },
    {
      "cell_type": "markdown",
      "source": [
        "The probability of getting 13 out of 20 seems to be around 0.074. The calculated value falls around that value everytime the program is run."
      ],
      "metadata": {
        "id": "BE7kAUU3181_"
      }
    },
    {
      "cell_type": "markdown",
      "source": [
        "**Questions 2: Interpret the p-value. Should we reject the null hypothesis?**"
      ],
      "metadata": {
        "id": "u9fTVtPN2x90"
      }
    },
    {
      "cell_type": "markdown",
      "source": [
        "The p-value that was calculated above (0.07) is higher than 0.05. This means that the results are not statistically significant meaning that there is strong support for the null hypothesis. So we should not reject the null hypothesis. "
      ],
      "metadata": {
        "id": "WQjpYYqG3BRr"
      }
    },
    {
      "cell_type": "markdown",
      "source": [
        "**Question 3: Now suppose we run the experiment with 30 cups of tea and she gets 22 cups.\n",
        "Again, assume the Lady has no special ability. What’s the p-value now?** "
      ],
      "metadata": {
        "id": "VN7HQ26d3q1J"
      }
    },
    {
      "cell_type": "code",
      "source": [
        "import numpy as np\n",
        "\n",
        "all_trials = []\n",
        "\n",
        "for j in range(100000):\n",
        "  trial = []\n",
        "  for i in range(30):\n",
        "    cup = np.random.random() < 0.5\n",
        "    trial.append(cup)\n",
        "  correct = sum(trial)\n",
        "  all_trials.append(correct)\n",
        "\n",
        "accumulator = 0\n",
        "for i in all_trials:\n",
        "  if i == 22:\n",
        "    accumulator += 1\n",
        "\n",
        "accumulator / 100000"
      ],
      "metadata": {
        "colab": {
          "base_uri": "https://localhost:8080/"
        },
        "id": "GXXbv5xE3_h5",
        "outputId": "14bf900d-6f81-46e7-9db2-1b63abceb906"
      },
      "execution_count": null,
      "outputs": [
        {
          "output_type": "execute_result",
          "data": {
            "text/plain": [
              "0.00521"
            ]
          },
          "metadata": {},
          "execution_count": 22
        }
      ]
    },
    {
      "cell_type": "markdown",
      "source": [
        "The p-value now seems to be around 0.005. Since the p-value is now less than 0.05 we can reject the null hypothesis."
      ],
      "metadata": {
        "id": "j9WP8LbX4V38"
      }
    },
    {
      "cell_type": "markdown",
      "source": [
        "**Question 4: Build and plot a posterior distribution for the value of 𝑝, the probability she will guess a cup correctly.**"
      ],
      "metadata": {
        "id": "f6OTmxAwBKbw"
      }
    },
    {
      "cell_type": "code",
      "source": [
        "import numpy as np\n",
        "from scipy import stats\n",
        "import matplotlib.pyplot as plt\n",
        "\n",
        "p_grid = np.linspace(.1,1,10) \n",
        "prior_distribution = [1/10] * 10\n",
        "likelihoods = stats.binom.pmf(6, 8, p=p_grid)\n",
        "posterior = likelihoods * prior_distribution\n",
        "posterior = posterior / sum(posterior)\n",
        "plt.plot(p_grid,posterior)\n",
        "plt.show()"
      ],
      "metadata": {
        "colab": {
          "base_uri": "https://localhost:8080/",
          "height": 265
        },
        "id": "5eyL0ymFBfhW",
        "outputId": "e104e84d-d69a-4730-c950-523afd78c598"
      },
      "execution_count": null,
      "outputs": [
        {
          "output_type": "display_data",
          "data": {
            "text/plain": [
              "<Figure size 432x288 with 1 Axes>"
            ],
            "image/png": "[encoded data removed]"
          },
          "metadata": {
            "needs_background": "light"
          }
        }
      ]
    },
    {
      "cell_type": "markdown",
      "source": [
        "Based on the fact that the question indicates that getting it right 60-80% of the time is weird, this plot seems to be correct. It shows a peak exactly at that 60-80% range."
      ],
      "metadata": {
        "id": "gGeQ46zPCUI2"
      }
    },
    {
      "cell_type": "markdown",
      "source": [
        "**Question 5: Construct and plot a prior that reflects these considerations. Rerun the estimation using this new prior and plot the posterior.**"
      ],
      "metadata": {
        "id": "z5gobkVTMvrd"
      }
    },
    {
      "cell_type": "code",
      "source": [
        "import numpy as np\n",
        "from scipy import stats\n",
        "import matplotlib.pyplot as plt\n",
        "\n",
        "hardcodedValues = [1, 1, 1, 1, 2, 2, 1, 1, 2, 2]\n",
        "newList = []\n",
        "for i in hardcodedValues:\n",
        "  newList.append(i/sum(hardcodedValues))\n",
        "\n",
        "grain = 10\n",
        "p_grid = np.linspace(0,1,grain)\n",
        "prior_distribution = p_grid * newList\n",
        "prior_distribution = prior_distribution / sum(prior_distribution) \n",
        "\n",
        "likelihoods = stats.binom.pmf(6, 8, p=p_grid)\n",
        "posterior = likelihoods * prior_distribution\n",
        "posterior = posterior / sum(posterior)\n",
        "plt.plot(p_grid,posterior)\n",
        "plt.show()\n",
        "\n",
        "plt.plot(p_grid, prior_distribution)\n",
        "plt.show()"
      ],
      "metadata": {
        "colab": {
          "base_uri": "https://localhost:8080/",
          "height": 513
        },
        "id": "MZq9tNGATXwz",
        "outputId": "bbe2afd5-c8f9-4eb4-cc2a-b871976e883e"
      },
      "execution_count": null,
      "outputs": [
        {
          "output_type": "display_data",
          "data": {
            "text/plain": [
              "<Figure size 432x288 with 1 Axes>"
            ],
            "image/png": "[encoded data removed]"
          },
          "metadata": {
            "needs_background": "light"
          }
        },
        {
          "output_type": "display_data",
          "data": {
            "text/plain": [
              "<Figure size 432x288 with 1 Axes>"
            ],
            "image/png": "[encoded data removed]"
          },
          "metadata": {
            "needs_background": "light"
          }
        }
      ]
    },
    {
      "cell_type": "markdown",
      "source": [
        "**Question 6: What’s the likelihood of the data, assuming there is no difference in walking\n",
        "speeds between the groups?**"
      ],
      "metadata": {
        "id": "FnfXQeDzkZtd"
      }
    },
    {
      "cell_type": "code",
      "source": [
        "from scipy import stats\n",
        "\n",
        "group1 = [9.61, 7.11, 7.88, 7.38, 7.18, 8.51, 8.68, 7.86, 9.02, 6.96, 8.13, 9.27, 8.32, 9.79]\n",
        "group2 = [7.30, 7.91, 7.53, 7.16, 6.52, 5.85, 8.45, 6.92, 7.46, 6.59, 9.26, 5.78, 7.67, 7.22]\n",
        "\n",
        "stats.ttest_ind(group1, group2)"
      ],
      "metadata": {
        "colab": {
          "base_uri": "https://localhost:8080/"
        },
        "id": "vXU8EWXUcE-8",
        "outputId": "a6809021-b177-49e4-c8c1-ff997f320b56"
      },
      "execution_count": null,
      "outputs": [
        {
          "output_type": "execute_result",
          "data": {
            "text/plain": [
              "Ttest_indResult(statistic=2.8476382149779207, pvalue=0.00849145457175489)"
            ]
          },
          "metadata": {},
          "execution_count": 25
        }
      ]
    },
    {
      "cell_type": "markdown",
      "source": [
        "The likelihood of the data, assuming there is no difference in walking speeds between the groups is roughly **0.0085**. Reason for using an independent t-test: we are trying to understand whether one group that was exposed to certain words associated with the elderly walked slower than the other group. We are basically determining whether there is a statistically significant difference between the walking speed means in the two basically unrelated groups. I would not have used an independent t-test if it was the same group of individuals coming in on different days doing both the neutral words and elderly associated word trials."
      ],
      "metadata": {
        "id": "RClqQGa5kgNf"
      }
    },
    {
      "cell_type": "markdown",
      "source": [
        "**Question: Add one data point to each group and recalculate the p-value**"
      ],
      "metadata": {
        "id": "xu8OfP0hnPUD"
      }
    },
    {
      "cell_type": "code",
      "source": [
        "from scipy import stats\n",
        "\n",
        "group1 = [9.61, 7.11, 7.88, 7.38, 7.18, 8.51, 8.68, 7.86, 9.02, 6.96, 8.13, 9.27, 8.32, 9.79]\n",
        "group2 = [7.30, 7.91, 7.53, 7.16, 6.52, 5.85, 8.45, 6.92, 7.46, 6.59, 9.26, 5.78, 7.67, 7.22]\n",
        "\n",
        "# A realistic possible walking speed for the missing person might be the avg of everyone else in that group\n",
        "# Get data point to add to group 1\n",
        "P1Speed = 0;\n",
        "for i in group1:\n",
        "  P1Speed += i\n",
        "group1.append(P1Speed/len(group1))\n",
        "\n",
        "# Get data point to add to group 2\n",
        "P2Speed = 0;\n",
        "for i in group2:\n",
        "  P2Speed += i\n",
        "group2.append(P2Speed/len(group2))\n",
        "\n",
        "stats.ttest_ind(group1, group2)\n"
      ],
      "metadata": {
        "colab": {
          "base_uri": "https://localhost:8080/"
        },
        "id": "MN8oBQ6Wnd2j",
        "outputId": "041d6b36-cc97-43bc-d9d4-acb65a027483"
      },
      "execution_count": null,
      "outputs": [
        {
          "output_type": "execute_result",
          "data": {
            "text/plain": [
              "Ttest_indResult(statistic=3.0588541224431833, pvalue=0.004853728116802296)"
            ]
          },
          "metadata": {},
          "execution_count": 26
        }
      ]
    },
    {
      "cell_type": "markdown",
      "source": [
        "The p-value after introducing two new people is roughly 0.0049"
      ],
      "metadata": {
        "id": "_hea5rlgtRK4"
      }
    },
    {
      "cell_type": "markdown",
      "source": [
        "**Question 7: Find a plausible lower limit and a plausible upper limit on the p value for\n",
        "this experiment. Explain your approach to selecting the missing data points.**"
      ],
      "metadata": {
        "id": "F2vZWABftoV3"
      }
    },
    {
      "cell_type": "markdown",
      "source": [
        "Plausible Lower Limit: 0.0049\n",
        "\n",
        "Plausible Upper Limit: 0.0085\n",
        "\n",
        "Approach to selecting the missing data points: The missing data point can't be something that is drastically different from the group that it is missing from. So based on that assumption, I took the average values of all individuals in group 1 and used that value as the walking speed of the missing person. I did the same thing for the missing data point in group 2 as well. The average value produces a nice realistic and representative value."
      ],
      "metadata": {
        "id": "z29ArZIru8ah"
      }
    }
  ]
}